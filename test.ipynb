{
 "metadata": {
  "language_info": {
   "codemirror_mode": {
    "name": "ipython",
    "version": 3
   },
   "file_extension": ".py",
   "mimetype": "text/x-python",
   "name": "python",
   "nbconvert_exporter": "python",
   "pygments_lexer": "ipython3",
   "version": "3.7.10"
  },
  "orig_nbformat": 2,
  "kernelspec": {
   "name": "python3710jvsc74a57bd0c3c4d665c292ec3c2f4a7dcf16da70121a739d5f92a361d316842e70510edc67",
   "display_name": "Python 3.7.10 64-bit ('py37': conda)"
  }
 },
 "nbformat": 4,
 "nbformat_minor": 2,
 "cells": [
  {
   "cell_type": "code",
   "execution_count": 3,
   "metadata": {},
   "outputs": [
    {
     "output_type": "execute_result",
     "data": {
      "text/plain": [
       "array([2, 9, 7, 5, 3])"
      ]
     },
     "metadata": {},
     "execution_count": 3
    }
   ],
   "source": [
    "import numpy as np\n",
    "rng = np.random.RandomState(\n",
    "            [\n",
    "                42,  # magic number\n",
    "                12,  # global seed\n",
    "                1,  # epoch index\n",
    "            ]\n",
    "        )\n",
    "rng\n",
    "rng.choice(\n",
    "                10,\n",
    "                5,\n",
    "                replace=False,\n",
    "                p=(None),\n",
    "            )\n"
   ]
  },
  {
   "cell_type": "code",
   "execution_count": null,
   "metadata": {},
   "outputs": [],
   "source": []
  }
 ]
}